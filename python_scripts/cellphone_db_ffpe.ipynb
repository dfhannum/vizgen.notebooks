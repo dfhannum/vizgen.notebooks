{
 "cells": [
  {
   "cell_type": "markdown",
   "id": "b04723a7-de27-4707-bb99-abf8363ee976",
   "metadata": {},
   "source": [
    "Building of from the work in clustering_spat_visualization....\n",
    "\n",
    "Going to look at running cellphoneDB"
   ]
  },
  {
   "cell_type": "code",
   "execution_count": 4,
   "id": "f0621db9-945b-4d2a-a651-22ebd1104ed3",
   "metadata": {},
   "outputs": [
    {
     "name": "stdout",
     "output_type": "stream",
     "text": [
      "Requirement already satisfied: scikit-learn in c:\\users\\douglashannumjr\\anaconda3\\lib\\site-packages (1.2.1)\n",
      "Requirement already satisfied: numpy>=1.17.3 in c:\\users\\douglashannumjr\\anaconda3\\lib\\site-packages (from scikit-learn) (1.22.4)\n",
      "Requirement already satisfied: joblib>=1.1.1 in c:\\users\\douglashannumjr\\anaconda3\\lib\\site-packages (from scikit-learn) (1.1.1)\n",
      "Requirement already satisfied: scipy>=1.3.2 in c:\\users\\douglashannumjr\\anaconda3\\lib\\site-packages (from scikit-learn) (1.10.0)\n",
      "Requirement already satisfied: threadpoolctl>=2.0.0 in c:\\users\\douglashannumjr\\anaconda3\\lib\\site-packages (from scikit-learn) (2.2.0)\n",
      "Note: you may need to restart the kernel to use updated packages.\n"
     ]
    }
   ],
   "source": [
    "# pip install scikit-learn"
   ]
  },
  {
   "cell_type": "code",
   "execution_count": 1,
   "id": "cde58bf4-6349-4be2-b44f-fd517037f3e5",
   "metadata": {},
   "outputs": [],
   "source": [
    "# pip install cellphonedb --user"
   ]
  },
  {
   "cell_type": "code",
   "execution_count": 43,
   "id": "eeb231c6-4626-491b-b382-71bf73cec325",
   "metadata": {},
   "outputs": [],
   "source": [
    "import pandas as pd\n",
    "import glob\n",
    "import os"
   ]
  },
  {
   "cell_type": "markdown",
   "id": "6473d974-1389-44eb-af8d-919b65ab477e",
   "metadata": {},
   "source": []
  },
  {
   "cell_type": "code",
   "execution_count": 44,
   "id": "61f0c914-2b3e-4fb1-8eee-bd3e635063d7",
   "metadata": {},
   "outputs": [
    {
     "data": {
      "text/html": [
       "<table class=\"striped\"><tr><th style=\"text-align:center\">Version</th><th style=\"text-align:center\">Release date</th></tr><td style=\"text-align:center\"><a class=\"teal-text\" href=\"https://github.com/ventolab/cellphonedb-data/releases/tag/v4.1.0\">v4.1.0</a></td><td style=\"text-align:center\">2023-03-09</td></tr><tr><tr><tr></table>"
      ],
      "text/plain": [
       "<IPython.core.display.HTML object>"
      ]
     },
     "metadata": {},
     "output_type": "display_data"
    }
   ],
   "source": [
    "from IPython.display import HTML, display\n",
    "from cellphonedb.utils import db_releases_utils\n",
    "\n",
    "display(HTML(db_releases_utils.get_remote_database_versions_html()['db_releases_html_table']))"
   ]
  },
  {
   "cell_type": "code",
   "execution_count": 6,
   "id": "5f1d4016-2b28-446a-9cc2-a548fa852bcb",
   "metadata": {},
   "outputs": [],
   "source": [
    "# cpdb_version = 'v4.1.0'\n",
    "\n",
    "# cpdb_target_dir = os.path.join('../data/', cpdb_version)"
   ]
  },
  {
   "cell_type": "code",
   "execution_count": 7,
   "id": "4762bd4b-13e9-4f89-928b-9ee6d10a3186",
   "metadata": {},
   "outputs": [
    {
     "name": "stdout",
     "output_type": "stream",
     "text": [
      "Downloaded cellphonedb.zip into ../data/v4.1.0\n",
      "Downloaded complex_input.csv into ../data/v4.1.0\n",
      "Downloaded gene_input.csv into ../data/v4.1.0\n",
      "Downloaded interaction_input.csv into ../data/v4.1.0\n",
      "Downloaded protein_input.csv into ../data/v4.1.0\n",
      "Downloaded uniprot_synonyms.tsv into ../data/v4.1.0\\sources\n"
     ]
    }
   ],
   "source": [
    "# from cellphonedb.utils import db_utils\n",
    "\n",
    "# db_utils.download_database(cpdb_target_dir, cpdb_version)"
   ]
  },
  {
   "cell_type": "code",
   "execution_count": null,
   "id": "8467f508-f39b-4587-9ab6-065c24802d66",
   "metadata": {},
   "outputs": [],
   "source": []
  },
  {
   "cell_type": "code",
   "execution_count": 12,
   "id": "8ac358c9-f5a0-4929-892b-2e054b435038",
   "metadata": {},
   "outputs": [],
   "source": [
    "import anndata\n",
    "import sys\n",
    "import pickle"
   ]
  },
  {
   "cell_type": "code",
   "execution_count": null,
   "id": "466983c6-effb-4352-bf6a-067fe57dc25e",
   "metadata": {},
   "outputs": [],
   "source": []
  },
  {
   "cell_type": "code",
   "execution_count": 11,
   "id": "156123be-89de-4543-86f7-e9a0177ab6cf",
   "metadata": {},
   "outputs": [
    {
     "name": "stdout",
     "output_type": "stream",
     "text": [
      "3.8.16 (default, Mar  2 2023, 03:18:16) [MSC v.1916 64 bit (AMD64)]\n"
     ]
    }
   ],
   "source": [
    "print(sys.version)"
   ]
  },
  {
   "cell_type": "code",
   "execution_count": 13,
   "id": "aca1932d-5fd1-4ad4-b26d-6e612c18213f",
   "metadata": {},
   "outputs": [],
   "source": [
    "with open('../data/mouse_brain_showcase/scanpy_object.pickle', 'rb') as f:\n",
    "    adata = pickle.load(f)"
   ]
  },
  {
   "cell_type": "code",
   "execution_count": 14,
   "id": "8e055eba-5839-49bc-9d7c-06540520b494",
   "metadata": {},
   "outputs": [],
   "source": [
    "cpdb_file_path = '../data/v4.1.0/cellphonedb.zip'\n"
   ]
  },
  {
   "cell_type": "code",
   "execution_count": 15,
   "id": "f653b120-be9e-4c07-a040-0a460e6be822",
   "metadata": {},
   "outputs": [],
   "source": [
    "metadata = adata.obs['leiden']"
   ]
  },
  {
   "cell_type": "code",
   "execution_count": 19,
   "id": "2452e773-5ac6-43dc-9fe4-c204f3e92fe7",
   "metadata": {},
   "outputs": [
    {
     "data": {
      "text/plain": [
       "Index(['0', '1', '2', '3', '4', '5', '6', '7', '8', '9',\n",
       "       ...\n",
       "       '83536', '83537', '83538', '83539', '83540', '83541', '83542', '83543',\n",
       "       '83544', '83545'],\n",
       "      dtype='object', length=83546)"
      ]
     },
     "execution_count": 19,
     "metadata": {},
     "output_type": "execute_result"
    }
   ],
   "source": [
    "adata.obs.index"
   ]
  },
  {
   "cell_type": "code",
   "execution_count": 21,
   "id": "14eba775-63a7-4a1e-991d-c53c47bd6276",
   "metadata": {},
   "outputs": [],
   "source": [
    "d = {'barcode_sample' : adata.obs.index,\n",
    "     'cell_type' : adata.obs['leiden']}"
   ]
  },
  {
   "cell_type": "code",
   "execution_count": 22,
   "id": "03681413-d8f4-4763-b73f-7f145fb02251",
   "metadata": {},
   "outputs": [],
   "source": [
    "metadata = pd.DataFrame(data = d)"
   ]
  },
  {
   "cell_type": "code",
   "execution_count": 26,
   "id": "5b894dc8-5892-42b5-99dc-fc2c6fb618d3",
   "metadata": {},
   "outputs": [
    {
     "data": {
      "text/plain": [
       "True"
      ]
     },
     "execution_count": 26,
     "metadata": {},
     "output_type": "execute_result"
    }
   ],
   "source": [
    "list(adata.obs.index).sort() == list(metadata['barcode_sample']).sort()"
   ]
  },
  {
   "cell_type": "code",
   "execution_count": 27,
   "id": "54c943d3-6977-4761-bd1d-1fb9ce3c7d10",
   "metadata": {},
   "outputs": [],
   "source": [
    "metadata.to_csv('../data/mouse_brain_showcase/metadata.tsv', sep = '\\t')"
   ]
  },
  {
   "cell_type": "code",
   "execution_count": 39,
   "id": "e7b8a6d9-dbe9-4016-93ba-95036bdcec85",
   "metadata": {},
   "outputs": [],
   "source": [
    "adata.var_names = adata.var_names.str.upper()"
   ]
  },
  {
   "cell_type": "code",
   "execution_count": 40,
   "id": "5cac9723-bc14-4bc1-9814-85ea1be4866e",
   "metadata": {},
   "outputs": [],
   "source": [
    "adata.write_h5ad('../data/mouse_brain_showcase/s2r1.h5ad')"
   ]
  },
  {
   "cell_type": "code",
   "execution_count": null,
   "id": "7a5a3788-361e-4034-9cef-9c4fd8636dab",
   "metadata": {},
   "outputs": [],
   "source": []
  },
  {
   "cell_type": "code",
   "execution_count": 41,
   "id": "a6b5019d-a270-4969-8941-75629c00f6f1",
   "metadata": {},
   "outputs": [],
   "source": [
    "cpdb_file_path = '../data/v4.1.0/cellphonedb.zip'\n",
    "meta_file_path = '../data/mouse_brain_showcase/metadata.tsv'\n",
    "counts_file_path = '../data/mouse_brain_showcase/s2r1.h5ad'\n",
    "out_path = '../data/mouse_brain_showcase/cpdb'"
   ]
  },
  {
   "cell_type": "code",
   "execution_count": 42,
   "id": "5e932d3c-c2f5-4828-8245-de8ca809f188",
   "metadata": {},
   "outputs": [
    {
     "name": "stdout",
     "output_type": "stream",
     "text": [
      "Reading user files...\n",
      "The following user files were loaded successfully:\n",
      "../data/mouse_brain_showcase/s2r1.h5ad\n",
      "../data/mouse_brain_showcase/metadata.tsv\n",
      "[ ][CORE][02/05/23-13:42:43][INFO] [Cluster Statistical Analysis] Threshold:0.1 Iterations:1000 Debug-seed:-1 Threads:4 Precision:3\n"
     ]
    },
    {
     "ename": "NoInteractionsFound",
     "evalue": "No CellPhoneDB interacions found in this input.",
     "output_type": "error",
     "traceback": [
      "\u001b[1;31m---------------------------------------------------------------------------\u001b[0m",
      "\u001b[1;31mNoInteractionsFound\u001b[0m                       Traceback (most recent call last)",
      "Cell \u001b[1;32mIn[42], line 3\u001b[0m\n\u001b[0;32m      1\u001b[0m \u001b[38;5;28;01mfrom\u001b[39;00m \u001b[38;5;21;01mcellphonedb\u001b[39;00m\u001b[38;5;21;01m.\u001b[39;00m\u001b[38;5;21;01msrc\u001b[39;00m\u001b[38;5;21;01m.\u001b[39;00m\u001b[38;5;21;01mcore\u001b[39;00m\u001b[38;5;21;01m.\u001b[39;00m\u001b[38;5;21;01mmethods\u001b[39;00m \u001b[38;5;28;01mimport\u001b[39;00m cpdb_statistical_analysis_method\n\u001b[1;32m----> 3\u001b[0m deconvoluted, means, pvalues, significant_means \u001b[38;5;241m=\u001b[39m \u001b[43mcpdb_statistical_analysis_method\u001b[49m\u001b[38;5;241;43m.\u001b[39;49m\u001b[43mcall\u001b[49m\u001b[43m(\u001b[49m\n\u001b[0;32m      4\u001b[0m \u001b[43m    \u001b[49m\u001b[43mcpdb_file_path\u001b[49m\u001b[38;5;241;43m=\u001b[39;49m\u001b[43m \u001b[49m\u001b[43mcpdb_file_path\u001b[49m\u001b[43m,\u001b[49m\n\u001b[0;32m      5\u001b[0m \u001b[43m    \u001b[49m\u001b[43mmeta_file_path\u001b[49m\u001b[38;5;241;43m=\u001b[39;49m\u001b[43m \u001b[49m\u001b[43mmeta_file_path\u001b[49m\u001b[43m,\u001b[49m\n\u001b[0;32m      6\u001b[0m \u001b[43m    \u001b[49m\u001b[43mcounts_file_path\u001b[49m\u001b[38;5;241;43m=\u001b[39;49m\u001b[43m \u001b[49m\u001b[43mcounts_file_path\u001b[49m\u001b[43m,\u001b[49m\n\u001b[0;32m      7\u001b[0m \u001b[43m    \u001b[49m\u001b[43mcounts_data\u001b[49m\u001b[38;5;241;43m=\u001b[39;49m\u001b[38;5;124;43m'\u001b[39;49m\u001b[38;5;124;43mhgnc_symbol\u001b[39;49m\u001b[38;5;124;43m'\u001b[39;49m\u001b[43m,\u001b[49m\n\u001b[0;32m      8\u001b[0m \u001b[43m    \u001b[49m\u001b[43moutput_path\u001b[49m\u001b[38;5;241;43m=\u001b[39;49m\u001b[43mout_path\u001b[49m\n\u001b[0;32m      9\u001b[0m \u001b[43m)\u001b[49m\n",
      "File \u001b[1;32m~\\anaconda3\\envs\\cpdb\\lib\\site-packages\\cellphonedb\\src\\core\\methods\\cpdb_statistical_analysis_method.py:108\u001b[0m, in \u001b[0;36mcall\u001b[1;34m(cpdb_file_path, meta_file_path, counts_file_path, counts_data, output_path, microenvs_file_path, iterations, threshold, threads, debug_seed, result_precision, pvalue, subsampling, subsampling_log, subsampling_num_pc, subsampling_num_cells, separator, debug, output_suffix)\u001b[0m\n\u001b[0;32m    104\u001b[0m     ss \u001b[38;5;241m=\u001b[39m subsampler\u001b[38;5;241m.\u001b[39mSubsampler(log\u001b[38;5;241m=\u001b[39msubsampling_log, num_pc\u001b[38;5;241m=\u001b[39msubsampling_num_pc, num_cells\u001b[38;5;241m=\u001b[39msubsampling_num_cells, verbose\u001b[38;5;241m=\u001b[39m\u001b[38;5;28;01mFalse\u001b[39;00m, debug_seed\u001b[38;5;241m=\u001b[39m\u001b[38;5;28;01mNone\u001b[39;00m)\n\u001b[0;32m    105\u001b[0m     counts \u001b[38;5;241m=\u001b[39m ss\u001b[38;5;241m.\u001b[39msubsample(counts)\n\u001b[0;32m    107\u001b[0m pvalues, means, significant_means, deconvoluted \u001b[38;5;241m=\u001b[39m \\\n\u001b[1;32m--> 108\u001b[0m     \u001b[43mcpdb_statistical_analysis_complex_method\u001b[49m\u001b[38;5;241;43m.\u001b[39;49m\u001b[43mcall\u001b[49m\u001b[43m(\u001b[49m\u001b[43mmeta\u001b[49m\u001b[38;5;241;43m.\u001b[39;49m\u001b[43mcopy\u001b[49m\u001b[43m(\u001b[49m\u001b[43m)\u001b[49m\u001b[43m,\u001b[49m\n\u001b[0;32m    109\u001b[0m \u001b[43m                                                  \u001b[49m\u001b[43mcounts\u001b[49m\u001b[38;5;241;43m.\u001b[39;49m\u001b[43mcopy\u001b[49m\u001b[43m(\u001b[49m\u001b[43m)\u001b[49m\u001b[43m,\u001b[49m\n\u001b[0;32m    110\u001b[0m \u001b[43m                                                  \u001b[49m\u001b[43mcounts_data\u001b[49m\u001b[43m,\u001b[49m\n\u001b[0;32m    111\u001b[0m \u001b[43m                                                  \u001b[49m\u001b[43minteractions\u001b[49m\u001b[43m,\u001b[49m\n\u001b[0;32m    112\u001b[0m \u001b[43m                                                  \u001b[49m\u001b[43mgenes\u001b[49m\u001b[43m,\u001b[49m\n\u001b[0;32m    113\u001b[0m \u001b[43m                                                  \u001b[49m\u001b[43mcomplex_expanded\u001b[49m\u001b[43m,\u001b[49m\n\u001b[0;32m    114\u001b[0m \u001b[43m                                                  \u001b[49m\u001b[43mcomplex_composition\u001b[49m\u001b[43m,\u001b[49m\n\u001b[0;32m    115\u001b[0m \u001b[43m                                                  \u001b[49m\u001b[43mmicroenvs\u001b[49m\u001b[43m,\u001b[49m\n\u001b[0;32m    116\u001b[0m \u001b[43m                                                  \u001b[49m\u001b[43mpvalue\u001b[49m\u001b[43m,\u001b[49m\n\u001b[0;32m    117\u001b[0m \u001b[43m                                                  \u001b[49m\u001b[43mseparator\u001b[49m\u001b[43m,\u001b[49m\n\u001b[0;32m    118\u001b[0m \u001b[43m                                                  \u001b[49m\u001b[43miterations\u001b[49m\u001b[43m,\u001b[49m\n\u001b[0;32m    119\u001b[0m \u001b[43m                                                  \u001b[49m\u001b[43mthreshold\u001b[49m\u001b[43m,\u001b[49m\n\u001b[0;32m    120\u001b[0m \u001b[43m                                                  \u001b[49m\u001b[43mthreads\u001b[49m\u001b[43m,\u001b[49m\n\u001b[0;32m    121\u001b[0m \u001b[43m                                                  \u001b[49m\u001b[43mdebug_seed\u001b[49m\u001b[43m,\u001b[49m\n\u001b[0;32m    122\u001b[0m \u001b[43m                                                  \u001b[49m\u001b[43mresult_precision\u001b[49m\u001b[43m,\u001b[49m\n\u001b[0;32m    123\u001b[0m \u001b[43m                                                  \u001b[49m\u001b[43mdebug\u001b[49m\u001b[43m,\u001b[49m\n\u001b[0;32m    124\u001b[0m \u001b[43m                                                  \u001b[49m\u001b[43moutput_path\u001b[49m\n\u001b[0;32m    125\u001b[0m \u001b[43m                                                  \u001b[49m\u001b[43m)\u001b[49m\n\u001b[0;32m    128\u001b[0m max_rank \u001b[38;5;241m=\u001b[39m significant_means[\u001b[38;5;124m'\u001b[39m\u001b[38;5;124mrank\u001b[39m\u001b[38;5;124m'\u001b[39m]\u001b[38;5;241m.\u001b[39mmax()\n\u001b[0;32m    129\u001b[0m significant_means[\u001b[38;5;124m'\u001b[39m\u001b[38;5;124mrank\u001b[39m\u001b[38;5;124m'\u001b[39m] \u001b[38;5;241m=\u001b[39m significant_means[\u001b[38;5;124m'\u001b[39m\u001b[38;5;124mrank\u001b[39m\u001b[38;5;124m'\u001b[39m]\u001b[38;5;241m.\u001b[39mapply(\u001b[38;5;28;01mlambda\u001b[39;00m rank: rank \u001b[38;5;28;01mif\u001b[39;00m rank \u001b[38;5;241m!=\u001b[39m \u001b[38;5;241m0\u001b[39m \u001b[38;5;28;01melse\u001b[39;00m (\u001b[38;5;241m1\u001b[39m \u001b[38;5;241m+\u001b[39m max_rank))\n",
      "File \u001b[1;32m~\\anaconda3\\envs\\cpdb\\lib\\site-packages\\cellphonedb\\src\\core\\methods\\cpdb_statistical_analysis_complex_method.py:57\u001b[0m, in \u001b[0;36mcall\u001b[1;34m(meta, counts, counts_data, interactions, genes, complexes, complex_compositions, microenvs, pvalue, separator, iterations, threshold, threads, debug_seed, result_precision, debug, output_path)\u001b[0m\n\u001b[0;32m     50\u001b[0m interactions_filtered, counts_filtered, complex_composition_filtered \u001b[38;5;241m=\u001b[39m \\\n\u001b[0;32m     51\u001b[0m     cpdb_statistical_analysis_helper\u001b[38;5;241m.\u001b[39mprefilters(interactions_reduced,\n\u001b[0;32m     52\u001b[0m                                                 counts,\n\u001b[0;32m     53\u001b[0m                                                 complexes,\n\u001b[0;32m     54\u001b[0m                                                 complex_compositions)\n\u001b[0;32m     56\u001b[0m \u001b[38;5;28;01mif\u001b[39;00m interactions_filtered\u001b[38;5;241m.\u001b[39mempty:\n\u001b[1;32m---> 57\u001b[0m     \u001b[38;5;28;01mraise\u001b[39;00m NoInteractionsFound()\n\u001b[0;32m     59\u001b[0m meta \u001b[38;5;241m=\u001b[39m meta\u001b[38;5;241m.\u001b[39mloc[counts\u001b[38;5;241m.\u001b[39mcolumns]\n\u001b[0;32m     61\u001b[0m complex_to_protein_row_ids \u001b[38;5;241m=\u001b[39m complex_helper\u001b[38;5;241m.\u001b[39mmap_complex_to_protein_row_ids(complex_composition_filtered, counts_filtered)\n",
      "\u001b[1;31mNoInteractionsFound\u001b[0m: No CellPhoneDB interacions found in this input."
     ]
    }
   ],
   "source": [
    "from cellphonedb.src.core.methods import cpdb_statistical_analysis_method\n",
    "\n",
    "deconvoluted, means, pvalues, significant_means = cpdb_statistical_analysis_method.call(\n",
    "    cpdb_file_path= cpdb_file_path,\n",
    "    meta_file_path= meta_file_path,\n",
    "    counts_file_path= counts_file_path,\n",
    "    counts_data='hgnc_symbol',\n",
    "    output_path=out_path\n",
    ")"
   ]
  },
  {
   "cell_type": "code",
   "execution_count": null,
   "id": "9e194f82-a4f7-4972-aa03-ca0d951fb3f5",
   "metadata": {},
   "outputs": [],
   "source": []
  }
 ],
 "metadata": {
  "kernelspec": {
   "display_name": "cpdb",
   "language": "python",
   "name": "cpdb"
  },
  "language_info": {
   "codemirror_mode": {
    "name": "ipython",
    "version": 3
   },
   "file_extension": ".py",
   "mimetype": "text/x-python",
   "name": "python",
   "nbconvert_exporter": "python",
   "pygments_lexer": "ipython3",
   "version": "3.8.16"
  }
 },
 "nbformat": 4,
 "nbformat_minor": 5
}
