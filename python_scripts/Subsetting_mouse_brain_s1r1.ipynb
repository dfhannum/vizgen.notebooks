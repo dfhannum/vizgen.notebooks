{
 "cells": [
  {
   "cell_type": "markdown",
   "id": "82f76fcc-ef82-4f03-a319-62e44979c15f",
   "metadata": {},
   "source": [
    "Going to subset just to an FOV to make it easier to test and run code"
   ]
  },
  {
   "cell_type": "code",
   "execution_count": 1,
   "id": "21835733-bb8d-44f5-9aa4-7b97f6cf9f17",
   "metadata": {},
   "outputs": [],
   "source": [
    "import numpy as np\n",
    "import pandas as pd\n",
    "import scanpy as sc"
   ]
  },
  {
   "cell_type": "code",
   "execution_count": 2,
   "id": "99367307-2f89-4068-9ad9-dff0c986020c",
   "metadata": {},
   "outputs": [],
   "source": [
    "import squidpy as sq"
   ]
  },
  {
   "cell_type": "code",
   "execution_count": 3,
   "id": "4e5cb75c-cf6f-4d95-ac7c-a4191439c261",
   "metadata": {},
   "outputs": [
    {
     "name": "stderr",
     "output_type": "stream",
     "text": [
      "C:\\Users\\DouglasHannumJr\\AppData\\Roaming\\Python\\Python310\\site-packages\\geopandas\\_compat.py:123: UserWarning: The Shapely GEOS version (3.11.1-CAPI-1.17.1) is incompatible with the GEOS version PyGEOS was compiled with (3.10.4-CAPI-1.16.2). Conversions between both will be slow.\n",
      "  warnings.warn(\n",
      "C:\\Users\\DouglasHannumJr\\AppData\\Local\\Temp\\ipykernel_1460\\3587045932.py:2: UserWarning: Shapely 2.0 is installed, but because PyGEOS is also installed, GeoPandas will still use PyGEOS by default for now. To force to use and test Shapely 2.0, you have to set the environment variable USE_PYGEOS=0. You can do this before starting the Python process, or in your code before importing geopandas:\n",
      "\n",
      "import os\n",
      "os.environ['USE_PYGEOS'] = '0'\n",
      "import geopandas\n",
      "\n",
      "In a future release, GeoPandas will switch to using Shapely by default. If you are using PyGEOS directly (calling PyGEOS functions on geometries from GeoPandas), this will then stop working and you are encouraged to migrate from PyGEOS to Shapely 2.0 (https://shapely.readthedocs.io/en/latest/migration_pygeos.html).\n",
      "  import geopandas as geo\n"
     ]
    }
   ],
   "source": [
    "import os\n",
    "import geopandas as geo"
   ]
  },
  {
   "cell_type": "code",
   "execution_count": 4,
   "id": "f796c927-f698-4024-9ae8-e971d39bcb61",
   "metadata": {},
   "outputs": [
    {
     "data": {
      "text/plain": [
       "'C:\\\\Users\\\\DouglasHannumJr\\\\OneDrive - Vizgen\\\\Desktop\\\\python_scripts'"
      ]
     },
     "execution_count": 4,
     "metadata": {},
     "output_type": "execute_result"
    }
   ],
   "source": [
    "os.getcwd()"
   ]
  },
  {
   "cell_type": "code",
   "execution_count": 5,
   "id": "81d4b869-9b84-41a5-97bc-e3ed284c4c6a",
   "metadata": {},
   "outputs": [],
   "source": [
    "data_dir = '../data/mouse_brain_showcase/Slice-1_Replicate-1/'"
   ]
  },
  {
   "cell_type": "code",
   "execution_count": 6,
   "id": "f80ba497-bff8-4aba-9304-2212f46990b1",
   "metadata": {},
   "outputs": [],
   "source": [
    "os.chdir(data_dir)"
   ]
  },
  {
   "cell_type": "code",
   "execution_count": 7,
   "id": "d4a9d5cb-4389-4926-92cf-4721a1afd291",
   "metadata": {},
   "outputs": [
    {
     "data": {
      "text/plain": [
       "['cell_by_gene.csv',\n",
       " 'cell_metadata.csv',\n",
       " 'detected_transcripts.csv',\n",
       " 'extras',\n",
       " 'partitioned_transcripts.csv',\n",
       " 'tpv.Rds']"
      ]
     },
     "execution_count": 7,
     "metadata": {},
     "output_type": "execute_result"
    }
   ],
   "source": [
    "os.listdir()"
   ]
  },
  {
   "cell_type": "code",
   "execution_count": 8,
   "id": "91da528f-1e05-4acf-8445-337b18ec3bf1",
   "metadata": {},
   "outputs": [],
   "source": [
    "counts = pd.read_csv('cell_by_gene.csv', index_col=0, header=0)"
   ]
  },
  {
   "cell_type": "code",
   "execution_count": 9,
   "id": "729ca93b-7630-4fe3-a4f4-7a22dff9e8e5",
   "metadata": {},
   "outputs": [],
   "source": [
    "md = pd.read_csv('./cell_metadata.csv', index_col = 0)"
   ]
  },
  {
   "cell_type": "code",
   "execution_count": 10,
   "id": "d58ebef3-f732-4767-a889-675413c4e345",
   "metadata": {},
   "outputs": [
    {
     "data": {
      "text/plain": [
       "5232"
      ]
     },
     "execution_count": 10,
     "metadata": {},
     "output_type": "execute_result"
    }
   ],
   "source": [
    "sum(md['center_x'] > 8000)"
   ]
  },
  {
   "cell_type": "code",
   "execution_count": 11,
   "id": "1ed803e6-cb56-41b2-bafb-e3bd6e52b1ab",
   "metadata": {},
   "outputs": [
    {
     "data": {
      "text/plain": [
       "52887"
      ]
     },
     "execution_count": 11,
     "metadata": {},
     "output_type": "execute_result"
    }
   ],
   "source": [
    "sum(md['center_y'] < 4100)"
   ]
  },
  {
   "cell_type": "code",
   "execution_count": 12,
   "id": "1a451573-5855-4aab-8e12-df2e7ab6ffa0",
   "metadata": {},
   "outputs": [],
   "source": [
    "index_array = np.logical_and(md['center_x'] > 6000, np.logical_and(md['center_x'] < 6300, \n",
    "                                                     np.logical_and(md['center_y'] > 3600, md['center_y'] < 3900)))"
   ]
  },
  {
   "cell_type": "code",
   "execution_count": 13,
   "id": "e16439f2-ffdb-400f-a607-d0faa015063c",
   "metadata": {},
   "outputs": [
    {
     "data": {
      "text/plain": [
       "(158, 12)"
      ]
     },
     "execution_count": 13,
     "metadata": {},
     "output_type": "execute_result"
    }
   ],
   "source": [
    "md[index_array].shape"
   ]
  },
  {
   "cell_type": "code",
   "execution_count": 14,
   "id": "9fdbe356-43b5-403c-97ae-0b239b07a4e9",
   "metadata": {},
   "outputs": [],
   "source": [
    "md = md[index_array]"
   ]
  },
  {
   "cell_type": "code",
   "execution_count": 16,
   "id": "19b8e445-dec5-46fd-96d3-852eb6ca4970",
   "metadata": {},
   "outputs": [
    {
     "data": {
      "text/html": [
       "<div>\n",
       "<style scoped>\n",
       "    .dataframe tbody tr th:only-of-type {\n",
       "        vertical-align: middle;\n",
       "    }\n",
       "\n",
       "    .dataframe tbody tr th {\n",
       "        vertical-align: top;\n",
       "    }\n",
       "\n",
       "    .dataframe thead th {\n",
       "        text-align: right;\n",
       "    }\n",
       "</style>\n",
       "<table border=\"1\" class=\"dataframe\">\n",
       "  <thead>\n",
       "    <tr style=\"text-align: right;\">\n",
       "      <th></th>\n",
       "      <th>fov</th>\n",
       "      <th>volume</th>\n",
       "      <th>center_x</th>\n",
       "      <th>center_y</th>\n",
       "      <th>min_x</th>\n",
       "      <th>min_y</th>\n",
       "      <th>max_x</th>\n",
       "      <th>max_y</th>\n",
       "      <th>anisotropy</th>\n",
       "      <th>transcript_count</th>\n",
       "      <th>perimeter_area_ratio</th>\n",
       "      <th>solidity</th>\n",
       "    </tr>\n",
       "    <tr>\n",
       "      <th>EntityID</th>\n",
       "      <th></th>\n",
       "      <th></th>\n",
       "      <th></th>\n",
       "      <th></th>\n",
       "      <th></th>\n",
       "      <th></th>\n",
       "      <th></th>\n",
       "      <th></th>\n",
       "      <th></th>\n",
       "      <th></th>\n",
       "      <th></th>\n",
       "      <th></th>\n",
       "    </tr>\n",
       "  </thead>\n",
       "  <tbody>\n",
       "    <tr>\n",
       "      <th>121919181900004396</th>\n",
       "      <td>NaN</td>\n",
       "      <td>1799.683443</td>\n",
       "      <td>6001.924187</td>\n",
       "      <td>3811.299013</td>\n",
       "      <td>5993.115658</td>\n",
       "      <td>3802.759916</td>\n",
       "      <td>6013.549259</td>\n",
       "      <td>3821.465516</td>\n",
       "      <td>1.318624</td>\n",
       "      <td>633</td>\n",
       "      <td>0.324494</td>\n",
       "      <td>4.422366</td>\n",
       "    </tr>\n",
       "    <tr>\n",
       "      <th>121919181900004397</th>\n",
       "      <td>NaN</td>\n",
       "      <td>447.706567</td>\n",
       "      <td>6023.260216</td>\n",
       "      <td>3868.637802</td>\n",
       "      <td>6019.143659</td>\n",
       "      <td>3863.239917</td>\n",
       "      <td>6026.390459</td>\n",
       "      <td>3873.413517</td>\n",
       "      <td>1.403875</td>\n",
       "      <td>99</td>\n",
       "      <td>0.609575</td>\n",
       "      <td>4.858923</td>\n",
       "    </tr>\n",
       "    <tr>\n",
       "      <th>121919181900004445</th>\n",
       "      <td>NaN</td>\n",
       "      <td>823.558808</td>\n",
       "      <td>6007.885746</td>\n",
       "      <td>3784.473727</td>\n",
       "      <td>6000.783658</td>\n",
       "      <td>3777.811915</td>\n",
       "      <td>6014.845259</td>\n",
       "      <td>3795.545515</td>\n",
       "      <td>1.553704</td>\n",
       "      <td>100</td>\n",
       "      <td>0.628969</td>\n",
       "      <td>3.052211</td>\n",
       "    </tr>\n",
       "    <tr>\n",
       "      <th>121919181900008566</th>\n",
       "      <td>NaN</td>\n",
       "      <td>1045.388504</td>\n",
       "      <td>6093.349508</td>\n",
       "      <td>3697.711061</td>\n",
       "      <td>6087.334686</td>\n",
       "      <td>3691.615031</td>\n",
       "      <td>6099.344287</td>\n",
       "      <td>3703.624631</td>\n",
       "      <td>1.195988</td>\n",
       "      <td>242</td>\n",
       "      <td>0.378113</td>\n",
       "      <td>6.238712</td>\n",
       "    </tr>\n",
       "    <tr>\n",
       "      <th>121919181900008567</th>\n",
       "      <td>NaN</td>\n",
       "      <td>1100.098499</td>\n",
       "      <td>6146.539138</td>\n",
       "      <td>3730.451436</td>\n",
       "      <td>6141.010688</td>\n",
       "      <td>3723.043032</td>\n",
       "      <td>6152.588288</td>\n",
       "      <td>3737.320632</td>\n",
       "      <td>1.233209</td>\n",
       "      <td>226</td>\n",
       "      <td>0.378782</td>\n",
       "      <td>5.641877</td>\n",
       "    </tr>\n",
       "    <tr>\n",
       "      <th>...</th>\n",
       "      <td>...</td>\n",
       "      <td>...</td>\n",
       "      <td>...</td>\n",
       "      <td>...</td>\n",
       "      <td>...</td>\n",
       "      <td>...</td>\n",
       "      <td>...</td>\n",
       "      <td>...</td>\n",
       "      <td>...</td>\n",
       "      <td>...</td>\n",
       "      <td>...</td>\n",
       "      <td>...</td>\n",
       "    </tr>\n",
       "    <tr>\n",
       "      <th>121919181900076975</th>\n",
       "      <td>NaN</td>\n",
       "      <td>832.665826</td>\n",
       "      <td>6296.206737</td>\n",
       "      <td>3795.313432</td>\n",
       "      <td>6290.475194</td>\n",
       "      <td>3788.797769</td>\n",
       "      <td>6304.428795</td>\n",
       "      <td>3801.671369</td>\n",
       "      <td>1.522138</td>\n",
       "      <td>320</td>\n",
       "      <td>0.502714</td>\n",
       "      <td>4.580220</td>\n",
       "    </tr>\n",
       "    <tr>\n",
       "      <th>121919181900076978</th>\n",
       "      <td>NaN</td>\n",
       "      <td>1063.819491</td>\n",
       "      <td>6299.152413</td>\n",
       "      <td>3873.864903</td>\n",
       "      <td>6291.123194</td>\n",
       "      <td>3863.533771</td>\n",
       "      <td>6306.156795</td>\n",
       "      <td>3884.399371</td>\n",
       "      <td>1.631217</td>\n",
       "      <td>78</td>\n",
       "      <td>0.607866</td>\n",
       "      <td>3.296638</td>\n",
       "    </tr>\n",
       "    <tr>\n",
       "      <th>121919181900076989</th>\n",
       "      <td>NaN</td>\n",
       "      <td>2005.355582</td>\n",
       "      <td>6299.766503</td>\n",
       "      <td>3822.468280</td>\n",
       "      <td>6289.719194</td>\n",
       "      <td>3811.909769</td>\n",
       "      <td>6312.960795</td>\n",
       "      <td>3832.559370</td>\n",
       "      <td>1.207733</td>\n",
       "      <td>73</td>\n",
       "      <td>0.337268</td>\n",
       "      <td>3.554759</td>\n",
       "    </tr>\n",
       "    <tr>\n",
       "      <th>121919181900076991</th>\n",
       "      <td>NaN</td>\n",
       "      <td>1240.195976</td>\n",
       "      <td>6277.599154</td>\n",
       "      <td>3851.702895</td>\n",
       "      <td>6269.631194</td>\n",
       "      <td>3843.661770</td>\n",
       "      <td>6286.392794</td>\n",
       "      <td>3857.723370</td>\n",
       "      <td>1.353912</td>\n",
       "      <td>644</td>\n",
       "      <td>0.416369</td>\n",
       "      <td>4.454751</td>\n",
       "    </tr>\n",
       "    <tr>\n",
       "      <th>121919181900076992</th>\n",
       "      <td>NaN</td>\n",
       "      <td>1324.484710</td>\n",
       "      <td>6261.477497</td>\n",
       "      <td>3797.160618</td>\n",
       "      <td>6255.267193</td>\n",
       "      <td>3789.553769</td>\n",
       "      <td>6270.624794</td>\n",
       "      <td>3805.235369</td>\n",
       "      <td>1.265385</td>\n",
       "      <td>688</td>\n",
       "      <td>0.366846</td>\n",
       "      <td>5.029067</td>\n",
       "    </tr>\n",
       "  </tbody>\n",
       "</table>\n",
       "<p>158 rows × 12 columns</p>\n",
       "</div>"
      ],
      "text/plain": [
       "                    fov       volume     center_x     center_y        min_x   \n",
       "EntityID                                                                      \n",
       "121919181900004396  NaN  1799.683443  6001.924187  3811.299013  5993.115658  \\\n",
       "121919181900004397  NaN   447.706567  6023.260216  3868.637802  6019.143659   \n",
       "121919181900004445  NaN   823.558808  6007.885746  3784.473727  6000.783658   \n",
       "121919181900008566  NaN  1045.388504  6093.349508  3697.711061  6087.334686   \n",
       "121919181900008567  NaN  1100.098499  6146.539138  3730.451436  6141.010688   \n",
       "...                 ...          ...          ...          ...          ...   \n",
       "121919181900076975  NaN   832.665826  6296.206737  3795.313432  6290.475194   \n",
       "121919181900076978  NaN  1063.819491  6299.152413  3873.864903  6291.123194   \n",
       "121919181900076989  NaN  2005.355582  6299.766503  3822.468280  6289.719194   \n",
       "121919181900076991  NaN  1240.195976  6277.599154  3851.702895  6269.631194   \n",
       "121919181900076992  NaN  1324.484710  6261.477497  3797.160618  6255.267193   \n",
       "\n",
       "                          min_y        max_x        max_y  anisotropy   \n",
       "EntityID                                                                \n",
       "121919181900004396  3802.759916  6013.549259  3821.465516    1.318624  \\\n",
       "121919181900004397  3863.239917  6026.390459  3873.413517    1.403875   \n",
       "121919181900004445  3777.811915  6014.845259  3795.545515    1.553704   \n",
       "121919181900008566  3691.615031  6099.344287  3703.624631    1.195988   \n",
       "121919181900008567  3723.043032  6152.588288  3737.320632    1.233209   \n",
       "...                         ...          ...          ...         ...   \n",
       "121919181900076975  3788.797769  6304.428795  3801.671369    1.522138   \n",
       "121919181900076978  3863.533771  6306.156795  3884.399371    1.631217   \n",
       "121919181900076989  3811.909769  6312.960795  3832.559370    1.207733   \n",
       "121919181900076991  3843.661770  6286.392794  3857.723370    1.353912   \n",
       "121919181900076992  3789.553769  6270.624794  3805.235369    1.265385   \n",
       "\n",
       "                    transcript_count  perimeter_area_ratio  solidity  \n",
       "EntityID                                                              \n",
       "121919181900004396               633              0.324494  4.422366  \n",
       "121919181900004397                99              0.609575  4.858923  \n",
       "121919181900004445               100              0.628969  3.052211  \n",
       "121919181900008566               242              0.378113  6.238712  \n",
       "121919181900008567               226              0.378782  5.641877  \n",
       "...                              ...                   ...       ...  \n",
       "121919181900076975               320              0.502714  4.580220  \n",
       "121919181900076978                78              0.607866  3.296638  \n",
       "121919181900076989                73              0.337268  3.554759  \n",
       "121919181900076991               644              0.416369  4.454751  \n",
       "121919181900076992               688              0.366846  5.029067  \n",
       "\n",
       "[158 rows x 12 columns]"
      ]
     },
     "execution_count": 16,
     "metadata": {},
     "output_type": "execute_result"
    }
   ],
   "source": [
    "md"
   ]
  },
  {
   "cell_type": "code",
   "execution_count": 36,
   "id": "8695b0c5-6110-46f2-9050-e8d015cb8509",
   "metadata": {},
   "outputs": [],
   "source": [
    "cells_to_keep = md.index.to_numpy()"
   ]
  },
  {
   "cell_type": "code",
   "execution_count": 37,
   "id": "7faca03d-18b8-4732-9cfa-7a6937007ea2",
   "metadata": {},
   "outputs": [
    {
     "data": {
      "text/plain": [
       "array([121919181900004396, 121919181900004397, 121919181900004445,\n",
       "       121919181900008566, 121919181900008567, 121919181900008568,\n",
       "       121919181900008569, 121919181900008571, 121919181900008572,\n",
       "       121919181900008573, 121919181900008574, 121919181900008575,\n",
       "       121919181900008577, 121919181900008578, 121919181900008579,\n",
       "       121919181900008580, 121919181900008581, 121919181900008582,\n",
       "       121919181900008583, 121919181900008584, 121919181900008586,\n",
       "       121919181900008587, 121919181900008588, 121919181900008589,\n",
       "       121919181900008590, 121919181900008591, 121919181900008592,\n",
       "       121919181900008593, 121919181900008594, 121919181900008595,\n",
       "       121919181900008596, 121919181900008597, 121919181900008598,\n",
       "       121919181900008599, 121919181900008600, 121919181900008602,\n",
       "       121919181900008603, 121919181900008604, 121919181900008605,\n",
       "       121919181900008607, 121919181900008608, 121919181900008609,\n",
       "       121919181900008610, 121919181900008611, 121919181900008612,\n",
       "       121919181900008613, 121919181900008614, 121919181900008615,\n",
       "       121919181900008616, 121919181900008617, 121919181900008618,\n",
       "       121919181900008619, 121919181900008620, 121919181900008621,\n",
       "       121919181900008622, 121919181900008623, 121919181900008624,\n",
       "       121919181900008625, 121919181900008628, 121919181900008629,\n",
       "       121919181900008630, 121919181900008631, 121919181900008632,\n",
       "       121919181900008633, 121919181900008634, 121919181900008635,\n",
       "       121919181900008636, 121919181900008637, 121919181900008638,\n",
       "       121919181900008640, 121919181900008641, 121919181900008642,\n",
       "       121919181900008643, 121919181900008644, 121919181900035592,\n",
       "       121919181900035598, 121919181900035600, 121919181900035606,\n",
       "       121919181900035607, 121919181900035608, 121919181900035609,\n",
       "       121919181900035610, 121919181900035612, 121919181900035614,\n",
       "       121919181900035617, 121919181900035620, 121919181900035621,\n",
       "       121919181900035630, 121919181900035634, 121919181900035635,\n",
       "       121919181900035638, 121919181900035646, 121919181900035649,\n",
       "       121919181900035655, 121919181900035657, 121919181900035660,\n",
       "       121919181900035663, 121919181900035664, 121919181900035669,\n",
       "       121919181900035670, 121919181900035671, 121919181900035672,\n",
       "       121919181900070959, 121919181900070962, 121919181900070963,\n",
       "       121919181900070964, 121919181900070965, 121919181900070967,\n",
       "       121919181900070972, 121919181900070975, 121919181900070976,\n",
       "       121919181900070977, 121919181900070980, 121919181900070982,\n",
       "       121919181900070983, 121919181900070987, 121919181900070990,\n",
       "       121919181900070993, 121919181900070995, 121919181900070996,\n",
       "       121919181900070998, 121919181900070999, 121919181900071000,\n",
       "       121919181900071003, 121919181900071006, 121919181900071008,\n",
       "       121919181900071009, 121919181900071010, 121919181900071011,\n",
       "       121919181900071012, 121919181900071013, 121919181900071016,\n",
       "       121919181900071017, 121919181900071018, 121919181900073111,\n",
       "       121919181900073161, 121919181900073162, 121919181900073168,\n",
       "       121919181900076931, 121919181900076932, 121919181900076934,\n",
       "       121919181900076935, 121919181900076936, 121919181900076943,\n",
       "       121919181900076945, 121919181900076950, 121919181900076952,\n",
       "       121919181900076958, 121919181900076961, 121919181900076966,\n",
       "       121919181900076969, 121919181900076970, 121919181900076972,\n",
       "       121919181900076975, 121919181900076978, 121919181900076989,\n",
       "       121919181900076991, 121919181900076992], dtype=int64)"
      ]
     },
     "execution_count": 37,
     "metadata": {},
     "output_type": "execute_result"
    }
   ],
   "source": [
    "cells_to_keep"
   ]
  },
  {
   "cell_type": "code",
   "execution_count": 38,
   "id": "e14e1208-b786-413f-8658-dfc1276a77ba",
   "metadata": {},
   "outputs": [
    {
     "data": {
      "text/plain": [
       "Index([121919181900000000, 121919181900000001, 121919181900000002,\n",
       "       121919181900000003, 121919181900000004, 121919181900000005,\n",
       "       121919181900000006, 121919181900000007, 121919181900000008,\n",
       "       121919181900000009,\n",
       "       ...\n",
       "       121919181900078290, 121919181900078291, 121919181900078292,\n",
       "       121919181900078293, 121919181900078294, 121919181900078295,\n",
       "       121919181900078296, 121919181900078297, 121919181900078298,\n",
       "       121919181900078299],\n",
       "      dtype='int64', name='cell', length=78273)"
      ]
     },
     "execution_count": 38,
     "metadata": {},
     "output_type": "execute_result"
    }
   ],
   "source": [
    "counts.index"
   ]
  },
  {
   "cell_type": "code",
   "execution_count": 50,
   "id": "d3664619-4b33-415b-9c78-777a5631a759",
   "metadata": {},
   "outputs": [],
   "source": [
    "counts = counts[index_array]"
   ]
  },
  {
   "cell_type": "code",
   "execution_count": 51,
   "id": "87d1fb8a-98a0-4d55-bfb2-4fce0e6015e4",
   "metadata": {},
   "outputs": [
    {
     "data": {
      "text/plain": [
       "array([ True,  True,  True,  True,  True,  True,  True,  True,  True,\n",
       "        True,  True,  True,  True,  True,  True,  True,  True,  True,\n",
       "        True,  True,  True,  True,  True,  True,  True,  True,  True,\n",
       "        True,  True,  True,  True,  True,  True,  True,  True,  True,\n",
       "        True,  True,  True,  True,  True,  True,  True,  True,  True,\n",
       "        True,  True,  True,  True,  True,  True,  True,  True,  True,\n",
       "        True,  True,  True,  True,  True,  True,  True,  True,  True,\n",
       "        True,  True,  True,  True,  True,  True,  True,  True,  True,\n",
       "        True,  True,  True,  True,  True,  True,  True,  True,  True,\n",
       "        True,  True,  True,  True,  True,  True,  True,  True,  True,\n",
       "        True,  True,  True,  True,  True,  True,  True,  True,  True,\n",
       "        True,  True,  True,  True,  True,  True,  True,  True,  True,\n",
       "        True,  True,  True,  True,  True,  True,  True,  True,  True,\n",
       "        True,  True,  True,  True,  True,  True,  True,  True,  True,\n",
       "        True,  True,  True,  True,  True,  True,  True,  True,  True,\n",
       "        True,  True,  True,  True,  True,  True,  True,  True,  True,\n",
       "        True,  True,  True,  True,  True,  True,  True,  True,  True,\n",
       "        True,  True,  True,  True,  True])"
      ]
     },
     "execution_count": 51,
     "metadata": {},
     "output_type": "execute_result"
    }
   ],
   "source": [
    "counts.index == md.index"
   ]
  },
  {
   "cell_type": "code",
   "execution_count": 55,
   "id": "500c9e8d-233d-49f7-8c20-0514d4ecf860",
   "metadata": {},
   "outputs": [],
   "source": [
    "cells_to_keep = counts.index.to_numpy()"
   ]
  },
  {
   "cell_type": "code",
   "execution_count": 52,
   "id": "b2aa7aa2-67e8-432c-bba4-12dacd57ae09",
   "metadata": {},
   "outputs": [],
   "source": [
    "segmentations = geo.read_parquet('./cell_boundaries.parquet')"
   ]
  },
  {
   "cell_type": "code",
   "execution_count": 53,
   "id": "53c92234-6c74-4487-a7c3-b5175c52da2b",
   "metadata": {},
   "outputs": [
    {
     "data": {
      "text/html": [
       "<div>\n",
       "<style scoped>\n",
       "    .dataframe tbody tr th:only-of-type {\n",
       "        vertical-align: middle;\n",
       "    }\n",
       "\n",
       "    .dataframe tbody tr th {\n",
       "        vertical-align: top;\n",
       "    }\n",
       "\n",
       "    .dataframe thead th {\n",
       "        text-align: right;\n",
       "    }\n",
       "</style>\n",
       "<table border=\"1\" class=\"dataframe\">\n",
       "  <thead>\n",
       "    <tr style=\"text-align: right;\">\n",
       "      <th></th>\n",
       "      <th>ID</th>\n",
       "      <th>EntityID</th>\n",
       "      <th>ZIndex</th>\n",
       "      <th>Geometry</th>\n",
       "      <th>ZLevel</th>\n",
       "      <th>Type</th>\n",
       "      <th>Name</th>\n",
       "      <th>ParentID</th>\n",
       "      <th>ParentType</th>\n",
       "    </tr>\n",
       "  </thead>\n",
       "  <tbody>\n",
       "    <tr>\n",
       "      <th>0</th>\n",
       "      <td>0</td>\n",
       "      <td>121919181900000000</td>\n",
       "      <td>0</td>\n",
       "      <td>MULTIPOLYGON (((7664.039 3602.152, 7664.028 36...</td>\n",
       "      <td>1.5</td>\n",
       "      <td>cell</td>\n",
       "      <td>None</td>\n",
       "      <td>None</td>\n",
       "      <td>None</td>\n",
       "    </tr>\n",
       "    <tr>\n",
       "      <th>1</th>\n",
       "      <td>1</td>\n",
       "      <td>121919181900000000</td>\n",
       "      <td>1</td>\n",
       "      <td>MULTIPOLYGON (((7664.147 3603.232, 7664.147 36...</td>\n",
       "      <td>3.0</td>\n",
       "      <td>cell</td>\n",
       "      <td>None</td>\n",
       "      <td>None</td>\n",
       "      <td>None</td>\n",
       "    </tr>\n",
       "    <tr>\n",
       "      <th>2</th>\n",
       "      <td>2</td>\n",
       "      <td>121919181900000000</td>\n",
       "      <td>2</td>\n",
       "      <td>MULTIPOLYGON (((7664.687 3605.716, 7664.676 36...</td>\n",
       "      <td>4.5</td>\n",
       "      <td>cell</td>\n",
       "      <td>None</td>\n",
       "      <td>None</td>\n",
       "      <td>None</td>\n",
       "    </tr>\n",
       "    <tr>\n",
       "      <th>3</th>\n",
       "      <td>3</td>\n",
       "      <td>121919181900000000</td>\n",
       "      <td>3</td>\n",
       "      <td>MULTIPOLYGON (((7667.819 3607.876, 7667.819 36...</td>\n",
       "      <td>6.0</td>\n",
       "      <td>cell</td>\n",
       "      <td>None</td>\n",
       "      <td>None</td>\n",
       "      <td>None</td>\n",
       "    </tr>\n",
       "    <tr>\n",
       "      <th>4</th>\n",
       "      <td>4</td>\n",
       "      <td>121919181900000000</td>\n",
       "      <td>4</td>\n",
       "      <td>MULTIPOLYGON (((7664.147 3604.528, 7664.147 36...</td>\n",
       "      <td>7.5</td>\n",
       "      <td>cell</td>\n",
       "      <td>None</td>\n",
       "      <td>None</td>\n",
       "      <td>None</td>\n",
       "    </tr>\n",
       "  </tbody>\n",
       "</table>\n",
       "</div>"
      ],
      "text/plain": [
       "   ID            EntityID  ZIndex   \n",
       "0   0  121919181900000000       0  \\\n",
       "1   1  121919181900000000       1   \n",
       "2   2  121919181900000000       2   \n",
       "3   3  121919181900000000       3   \n",
       "4   4  121919181900000000       4   \n",
       "\n",
       "                                            Geometry  ZLevel  Type  Name   \n",
       "0  MULTIPOLYGON (((7664.039 3602.152, 7664.028 36...     1.5  cell  None  \\\n",
       "1  MULTIPOLYGON (((7664.147 3603.232, 7664.147 36...     3.0  cell  None   \n",
       "2  MULTIPOLYGON (((7664.687 3605.716, 7664.676 36...     4.5  cell  None   \n",
       "3  MULTIPOLYGON (((7667.819 3607.876, 7667.819 36...     6.0  cell  None   \n",
       "4  MULTIPOLYGON (((7664.147 3604.528, 7664.147 36...     7.5  cell  None   \n",
       "\n",
       "  ParentID ParentType  \n",
       "0     None       None  \n",
       "1     None       None  \n",
       "2     None       None  \n",
       "3     None       None  \n",
       "4     None       None  "
      ]
     },
     "execution_count": 53,
     "metadata": {},
     "output_type": "execute_result"
    }
   ],
   "source": [
    "segmentations.head()"
   ]
  },
  {
   "cell_type": "code",
   "execution_count": 58,
   "id": "1d6253a1-0208-4388-970e-8f25ab6419da",
   "metadata": {},
   "outputs": [
    {
     "data": {
      "text/plain": [
       "1088"
      ]
     },
     "execution_count": 58,
     "metadata": {},
     "output_type": "execute_result"
    }
   ],
   "source": [
    "sum(segmentations['EntityID'].isin(cells_to_keep))"
   ]
  },
  {
   "cell_type": "code",
   "execution_count": 60,
   "id": "fa844499-6aee-4ccd-a6cf-f2370d5238f8",
   "metadata": {},
   "outputs": [],
   "source": [
    "segmentations = segmentations[segmentations['EntityID'].isin(cells_to_keep)]"
   ]
  },
  {
   "cell_type": "code",
   "execution_count": 61,
   "id": "f4856064-acec-44c8-9533-418b812d2cb6",
   "metadata": {},
   "outputs": [],
   "source": [
    "segmentations.to_parquet('../Slice-1_Replicate-1_test/cell_boundaries.parquet')"
   ]
  },
  {
   "cell_type": "code",
   "execution_count": 62,
   "id": "2eb76376-484d-4657-8ace-6fcddbb0c82a",
   "metadata": {},
   "outputs": [],
   "source": [
    "md.to_csv('../Slice-1_Replicate-1_test/cell_metadata.csv')"
   ]
  },
  {
   "cell_type": "code",
   "execution_count": 63,
   "id": "80f05ad2-ea7c-4567-8bc2-c5bebebee47b",
   "metadata": {},
   "outputs": [],
   "source": [
    "counts.to_csv('../Slice-1_Replicate-1_test/cell_by_gene.csv')"
   ]
  },
  {
   "cell_type": "code",
   "execution_count": 66,
   "id": "3fac4e13-3831-4638-b0f7-ac1e23f5fa75",
   "metadata": {},
   "outputs": [
    {
     "data": {
      "text/plain": [
       "['cell_boundaries.parquet',\n",
       " 'cell_by_gene.csv',\n",
       " 'cell_metadata.csv',\n",
       " 'extras',\n",
       " 'partitioned_transcripts.csv']"
      ]
     },
     "execution_count": 66,
     "metadata": {},
     "output_type": "execute_result"
    }
   ],
   "source": [
    "os.listdir()"
   ]
  },
  {
   "cell_type": "code",
   "execution_count": 74,
   "id": "9aa88851-1c68-4c09-8cc8-53ae2c97fe21",
   "metadata": {},
   "outputs": [],
   "source": [
    "transcripts = pd.read_csv('./partitioned_transcripts.csv', index_col=0)"
   ]
  },
  {
   "cell_type": "code",
   "execution_count": 75,
   "id": "48ac80ca-4450-4205-a87f-59b1d4aeb597",
   "metadata": {},
   "outputs": [
    {
     "data": {
      "text/html": [
       "<div>\n",
       "<style scoped>\n",
       "    .dataframe tbody tr th:only-of-type {\n",
       "        vertical-align: middle;\n",
       "    }\n",
       "\n",
       "    .dataframe tbody tr th {\n",
       "        vertical-align: top;\n",
       "    }\n",
       "\n",
       "    .dataframe thead th {\n",
       "        text-align: right;\n",
       "    }\n",
       "</style>\n",
       "<table border=\"1\" class=\"dataframe\">\n",
       "  <thead>\n",
       "    <tr style=\"text-align: right;\">\n",
       "      <th></th>\n",
       "      <th>barcode_id</th>\n",
       "      <th>global_x</th>\n",
       "      <th>global_y</th>\n",
       "      <th>global_z</th>\n",
       "      <th>x</th>\n",
       "      <th>y</th>\n",
       "      <th>fov</th>\n",
       "      <th>gene</th>\n",
       "      <th>cell_id</th>\n",
       "    </tr>\n",
       "  </thead>\n",
       "  <tbody>\n",
       "    <tr>\n",
       "      <th>0</th>\n",
       "      <td>2</td>\n",
       "      <td>159.97784</td>\n",
       "      <td>4208.4683</td>\n",
       "      <td>4.0</td>\n",
       "      <td>1762.1163</td>\n",
       "      <td>159.98138</td>\n",
       "      <td>0</td>\n",
       "      <td>Htr1b</td>\n",
       "      <td>-1</td>\n",
       "    </tr>\n",
       "    <tr>\n",
       "      <th>1</th>\n",
       "      <td>2</td>\n",
       "      <td>165.94028</td>\n",
       "      <td>4321.8047</td>\n",
       "      <td>4.0</td>\n",
       "      <td>1817.3240</td>\n",
       "      <td>1209.39220</td>\n",
       "      <td>0</td>\n",
       "      <td>Htr1b</td>\n",
       "      <td>121919181900045751</td>\n",
       "    </tr>\n",
       "    <tr>\n",
       "      <th>2</th>\n",
       "      <td>11</td>\n",
       "      <td>158.47667</td>\n",
       "      <td>4320.9014</td>\n",
       "      <td>5.0</td>\n",
       "      <td>1748.2166</td>\n",
       "      <td>1201.02830</td>\n",
       "      <td>0</td>\n",
       "      <td>Htr6</td>\n",
       "      <td>121919181900045755</td>\n",
       "    </tr>\n",
       "    <tr>\n",
       "      <th>3</th>\n",
       "      <td>13</td>\n",
       "      <td>171.21793</td>\n",
       "      <td>4283.9500</td>\n",
       "      <td>0.0</td>\n",
       "      <td>1866.1912</td>\n",
       "      <td>858.88550</td>\n",
       "      <td>0</td>\n",
       "      <td>Adora1</td>\n",
       "      <td>-1</td>\n",
       "    </tr>\n",
       "    <tr>\n",
       "      <th>4</th>\n",
       "      <td>13</td>\n",
       "      <td>158.02158</td>\n",
       "      <td>4257.5470</td>\n",
       "      <td>1.0</td>\n",
       "      <td>1744.0027</td>\n",
       "      <td>614.41070</td>\n",
       "      <td>0</td>\n",
       "      <td>Adora1</td>\n",
       "      <td>121919181900045749</td>\n",
       "    </tr>\n",
       "  </tbody>\n",
       "</table>\n",
       "</div>"
      ],
      "text/plain": [
       "   barcode_id   global_x   global_y  global_z          x           y  fov   \n",
       "0           2  159.97784  4208.4683       4.0  1762.1163   159.98138    0  \\\n",
       "1           2  165.94028  4321.8047       4.0  1817.3240  1209.39220    0   \n",
       "2          11  158.47667  4320.9014       5.0  1748.2166  1201.02830    0   \n",
       "3          13  171.21793  4283.9500       0.0  1866.1912   858.88550    0   \n",
       "4          13  158.02158  4257.5470       1.0  1744.0027   614.41070    0   \n",
       "\n",
       "     gene             cell_id  \n",
       "0   Htr1b                  -1  \n",
       "1   Htr1b  121919181900045751  \n",
       "2    Htr6  121919181900045755  \n",
       "3  Adora1                  -1  \n",
       "4  Adora1  121919181900045749  "
      ]
     },
     "execution_count": 75,
     "metadata": {},
     "output_type": "execute_result"
    }
   ],
   "source": [
    "transcripts.head()"
   ]
  },
  {
   "cell_type": "code",
   "execution_count": 76,
   "id": "f9ec49e1-fac3-4d59-86b9-34d399055028",
   "metadata": {},
   "outputs": [],
   "source": [
    "trans = transcripts[transcripts['cell_id'].isin(cells_to_keep)]"
   ]
  },
  {
   "cell_type": "code",
   "execution_count": 77,
   "id": "e6c8ad81-a456-4211-930b-a9fcbf234d4d",
   "metadata": {},
   "outputs": [
    {
     "data": {
      "text/plain": [
       "(57127, 9)"
      ]
     },
     "execution_count": 77,
     "metadata": {},
     "output_type": "execute_result"
    }
   ],
   "source": [
    "trans.shape"
   ]
  },
  {
   "cell_type": "code",
   "execution_count": 79,
   "id": "2f85ac55-4315-4e4d-a3bd-86f6a50eb5f0",
   "metadata": {},
   "outputs": [],
   "source": [
    "trans.to_csv('../Slice-1_Replicate-1_test/detected_transcripts.csv')"
   ]
  },
  {
   "cell_type": "code",
   "execution_count": null,
   "id": "4421e630-4a4c-4d25-adca-f8924b2686af",
   "metadata": {},
   "outputs": [],
   "source": []
  }
 ],
 "metadata": {
  "kernelspec": {
   "display_name": "Python 3 (ipykernel)",
   "language": "python",
   "name": "python3"
  },
  "language_info": {
   "codemirror_mode": {
    "name": "ipython",
    "version": 3
   },
   "file_extension": ".py",
   "mimetype": "text/x-python",
   "name": "python",
   "nbconvert_exporter": "python",
   "pygments_lexer": "ipython3",
   "version": "3.10.9"
  }
 },
 "nbformat": 4,
 "nbformat_minor": 5
}
